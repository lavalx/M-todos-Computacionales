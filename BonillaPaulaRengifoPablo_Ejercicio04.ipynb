{
 "cells": [
  {
   "cell_type": "code",
   "execution_count": 10,
   "metadata": {},
   "outputs": [],
   "source": [
    "import matplotlib.pyplot as plt\n",
    "import numpy as np\n",
    "from numpy import random\n",
    "from random import randint"
   ]
  },
  {
   "cell_type": "code",
   "execution_count": 46,
   "metadata": {},
   "outputs": [
    {
     "name": "stdout",
     "output_type": "stream",
     "text": [
      "1 1 4\n"
     ]
    }
   ],
   "source": [
    "d1 = randint(1, 6)\n",
    "d2 = randint(1, 6)\n",
    "d3 = randint(1, 6)\n",
    "print (d1, d2, d3)"
   ]
  },
  {
   "cell_type": "code",
   "execution_count": 47,
   "metadata": {},
   "outputs": [],
   "source": [
    "def winAlice(n):\n",
    "    for i in range(n):\n",
    "        d1 = randint(1, 6)\n",
    "        d2 = randint(1, 6)\n",
    "        d3 = randint(1, 6)\n",
    "        if d1 == d1 == d3:\n",
    "            numIguales = 1\n",
    "    prob_same = numIguales/n\n",
    "    \n",
    "    return prob_same     "
   ]
  },
  {
   "cell_type": "code",
   "execution_count": 48,
   "metadata": {},
   "outputs": [],
   "source": [
    "def winBob(n):\n",
    "    for i in range(n):\n",
    "        d1 = randint(1, 6)\n",
    "        d2 = randint(1, 6)\n",
    "        d3 = randint(1, 6)\n",
    "        dados = [d1,d2,d3]\n",
    "        dados.sort()\n",
    "        if dados[0] == dados[1] - 1 and dados[1] == dados[2] - 1:\n",
    "            numConsecu = 1\n",
    "        \n",
    "    prob_consecutive = numConsecu/n\n",
    "    \n",
    "    return prob_consecutive\n"
   ]
  },
  {
   "cell_type": "code",
   "execution_count": 49,
   "metadata": {},
   "outputs": [
    {
     "name": "stdout",
     "output_type": "stream",
     "text": [
      "la probabilidad que Alice gane es de 0.01 %  Y la probabilidad que Bob gane es de 0.01 %\n"
     ]
    }
   ],
   "source": [
    "print('la probabilidad que Alice gane es de', winAlice(10000)*100,'%',' Y la probabilidad que Bob gane es de', winBob(10000)*100, '%')   "
   ]
  },
  {
   "cell_type": "code",
   "execution_count": null,
   "metadata": {},
   "outputs": [],
   "source": []
  }
 ],
 "metadata": {
  "kernelspec": {
   "display_name": "Python 3",
   "language": "python",
   "name": "python3"
  },
  "language_info": {
   "codemirror_mode": {
    "name": "ipython",
    "version": 3
   },
   "file_extension": ".py",
   "mimetype": "text/x-python",
   "name": "python",
   "nbconvert_exporter": "python",
   "pygments_lexer": "ipython3",
   "version": "3.8.5"
  }
 },
 "nbformat": 4,
 "nbformat_minor": 4
}
