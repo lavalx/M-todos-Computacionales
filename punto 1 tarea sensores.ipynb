{
 "cells": [
  {
   "cell_type": "code",
   "execution_count": 106,
   "id": "31f2d911",
   "metadata": {},
   "outputs": [],
   "source": [
    "import matplotlib.pyplot as plt\n",
    "import math"
   ]
  },
  {
   "cell_type": "code",
   "execution_count": 107,
   "id": "641710c7",
   "metadata": {},
   "outputs": [],
   "source": [
    "from math import e\n",
    "from math import sqrt\n",
    "from numpy import random"
   ]
  },
  {
   "cell_type": "code",
   "execution_count": 68,
   "id": "4b873d37",
   "metadata": {},
   "outputs": [
    {
     "data": {
      "text/plain": [
       "0.7193398003386512"
      ]
     },
     "execution_count": 68,
     "metadata": {},
     "output_type": "execute_result"
    }
   ],
   "source": [
    "math.sin(math.radians(46))"
   ]
  },
  {
   "cell_type": "code",
   "execution_count": 69,
   "id": "c78322e3",
   "metadata": {},
   "outputs": [],
   "source": [
    "#semieje mayor = a en metros\n",
    "a = 6378137\n",
    "#semieje menor = b en metros\n",
    "b = 6356752.31\n",
    "#latitud = fi\n",
    "fi = 4.6\n",
    "#Longitud = lan\n",
    "lan  = -74.07\n",
    "#altura = h\n",
    "h = 2000"
   ]
  },
  {
   "cell_type": "code",
   "execution_count": 70,
   "id": "3efc3129",
   "metadata": {},
   "outputs": [
    {
     "data": {
      "text/plain": [
       "(0.08019892432885892, 0.006431867463506039)"
      ]
     },
     "execution_count": 70,
     "metadata": {},
     "output_type": "execute_result"
    }
   ],
   "source": [
    "a2 = a*a\n",
    "eu = math.exp(2)\n",
    "sn = math.sin(math.radians(fi))\n",
    "s2n = sn*sn\n",
    "sn,s2n"
   ]
  },
  {
   "cell_type": "code",
   "execution_count": 71,
   "id": "f9dad3b4",
   "metadata": {},
   "outputs": [],
   "source": [
    "raiz = math.sqrt(1-eu*s2n)"
   ]
  },
  {
   "cell_type": "code",
   "execution_count": 72,
   "id": "b9045220",
   "metadata": {},
   "outputs": [
    {
     "data": {
      "text/plain": [
       "6535324.3816703195"
      ]
     },
     "execution_count": 72,
     "metadata": {},
     "output_type": "execute_result"
    }
   ],
   "source": [
    "N = a/raiz\n",
    "N"
   ]
  },
  {
   "cell_type": "code",
   "execution_count": 73,
   "id": "6a112580",
   "metadata": {},
   "outputs": [],
   "source": [
    "#Datos de coordenadas geográficas del edificio  M1\n",
    "#4°36'02.2\"N   74°03'57.9\"W = 4.6006°, -74.0661°"
   ]
  },
  {
   "cell_type": "markdown",
   "id": "c07f62b8",
   "metadata": {},
   "source": [
    "# Punto 1a \n",
    "a) Escribe un programa (en Matlab o Python) que convierte coordenadas geográficas (lat/lon/height) a coordenadas cartesianas ECEF (\"Earth-centered Earth-Fixed\"). (Entrega el código o link al código)"
   ]
  },
  {
   "cell_type": "code",
   "execution_count": 93,
   "id": "91510d7b",
   "metadata": {},
   "outputs": [],
   "source": [
    "def ConverCorde(fi, lan, h):\n",
    "    a = 6378.137\n",
    "    b = 6356.75231\n",
    "    n = a/math.sqrt(1-eu*s2n)\n",
    "    x = (n+h)*math.cos(math.radians(fi))*math.cos(math.radians(lan))\n",
    "    y = (n+h)*math.cos(math.radians(fi))*math.sin(math.radians(lan))\n",
    "    z = ((a**2/b**2)*n+h)*math.sin(math.radians(fi))\n",
    "    return x, y, z"
   ]
  },
  {
   "cell_type": "markdown",
   "id": "6d9c71ea",
   "metadata": {},
   "source": [
    "# Punto 1b\n",
    "b) Cuales son las coordenadas geográficas aproximadas del departamento en edificio M1? (Si no estás en el campus presencialmente, pueden utilizar Google Earth u otro SIG). Conviertelos a sus coordenadas ECEF utilizando el código que escribiste."
   ]
  },
  {
   "cell_type": "code",
   "execution_count": 99,
   "id": "8e2cfa00",
   "metadata": {},
   "outputs": [
    {
     "data": {
      "text/plain": [
       "(2513.779624685441, -8804.916259676675, 740.3620288281079)"
      ]
     },
     "execution_count": 99,
     "metadata": {},
     "output_type": "execute_result"
    }
   ],
   "source": [
    "ConverCorde(4.6006, -74.0661, 2651)"
   ]
  },
  {
   "cell_type": "markdown",
   "id": "8f18fe4c",
   "metadata": {},
   "source": [
    "# Punto 1c\n",
    "c) Ahora, utilizando el edificio M1 como origin local, expresa las coordenadas de la estatua de la Pola en coordenadas planares locales (East, North, Up)"
   ]
  },
  {
   "cell_type": "code",
   "execution_count": 101,
   "id": "79e31026",
   "metadata": {},
   "outputs": [
    {
     "data": {
      "text/plain": [
       "(2505.5875143880535, -8777.180164370406, 738.1963541140124)"
      ]
     },
     "execution_count": 101,
     "metadata": {},
     "output_type": "execute_result"
    }
   ],
   "source": [
    "#coordenadas del m1 planares x=2513.779624685441 y=-8804.916259676675 z=740.3620288281079\n",
    "#Datos de coordenadas geográficas del monumento la pola\n",
    "#4.601602, -74.067751\n",
    "ConverCorde(4.601602, -74.067751, 2622)"
   ]
  },
  {
   "cell_type": "code",
   "execution_count": 110,
   "id": "e0ef72a8",
   "metadata": {},
   "outputs": [
    {
     "data": {
      "text/plain": [
       "(8.192110297387444, -27.736095306268908, 2.1656747140955304)"
      ]
     },
     "execution_count": 110,
     "metadata": {},
     "output_type": "execute_result"
    }
   ],
   "source": [
    "x3 = 2513.779624685441 - 2505.5875143880535\n",
    "y3 = -8804.916259676675 + 8777.180164370406\n",
    "z3 = 740.3620288281079 - 738.1963541140124\n",
    "x3, y3, z3"
   ]
  },
  {
   "cell_type": "code",
   "execution_count": 111,
   "id": "00b7712f",
   "metadata": {},
   "outputs": [
    {
     "data": {
      "text/plain": [
       "(1008.1921102973874, 972.2639046937311, 102.16567471409553)"
      ]
     },
     "execution_count": 111,
     "metadata": {},
     "output_type": "execute_result"
    }
   ],
   "source": [
    "#tomando que el m1 tiene origin local 1000, 1000, 100\n",
    "#coordenadas east = ea\n",
    "#coordenadas north = no\n",
    "#coordenadas up = up\n",
    "ea = 1000+x3\n",
    "no = 1000+y3\n",
    "up = 100+z3\n",
    "ea,no,up"
   ]
  },
  {
   "cell_type": "markdown",
   "id": "6ba6eda1",
   "metadata": {},
   "source": [
    "# Punto 1d\n",
    "d) Finalmente, convierte la ubicación de la Pola en coordenadas ECEF."
   ]
  },
  {
   "cell_type": "code",
   "execution_count": 100,
   "id": "f662c629",
   "metadata": {},
   "outputs": [
    {
     "data": {
      "text/plain": [
       "(2505.5875143880535, -8777.180164370406, 738.1963541140124)"
      ]
     },
     "execution_count": 100,
     "metadata": {},
     "output_type": "execute_result"
    }
   ],
   "source": [
    "#Datos de coordenadas geográficas del monumento la pola\n",
    "#4.601602, -74.067751\n",
    "ConverCorde(4.601602, -74.067751, 2622)"
   ]
  },
  {
   "cell_type": "code",
   "execution_count": null,
   "id": "9ef408a7",
   "metadata": {},
   "outputs": [],
   "source": []
  }
 ],
 "metadata": {
  "kernelspec": {
   "display_name": "Python 3 (ipykernel)",
   "language": "python",
   "name": "python3"
  },
  "language_info": {
   "codemirror_mode": {
    "name": "ipython",
    "version": 3
   },
   "file_extension": ".py",
   "mimetype": "text/x-python",
   "name": "python",
   "nbconvert_exporter": "python",
   "pygments_lexer": "ipython3",
   "version": "3.9.7"
  }
 },
 "nbformat": 4,
 "nbformat_minor": 5
}
