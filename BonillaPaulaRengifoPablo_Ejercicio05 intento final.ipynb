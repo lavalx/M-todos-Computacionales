{
 "cells": [
  {
   "cell_type": "markdown",
   "metadata": {},
   "source": [
    "# Laboratorio 5 - Métodos Computacionales \n",
    "Paula Valentina Bonilla Hernández\n",
    "\n",
    "Pablo Felipe Rengifo Montilla"
   ]
  },
  {
   "cell_type": "code",
   "execution_count": 37,
   "metadata": {},
   "outputs": [],
   "source": [
    "from __future__ import print_function, division\n",
    "import numpy as np\n",
    "import scipy.special\n",
    "import pylab as plt"
   ]
  },
  {
   "cell_type": "code",
   "execution_count": 38,
   "metadata": {},
   "outputs": [],
   "source": [
    "N = 10000000"
   ]
  },
  {
   "cell_type": "code",
   "execution_count": 40,
   "metadata": {},
   "outputs": [
    {
     "name": "stdout",
     "output_type": "stream",
     "text": [
      "Volumen esfera en 10D = 2.5631744\n"
     ]
    }
   ],
   "source": [
    "for D in np.arange(10,11): # Loop\n",
    "\n",
    "    all = np.random.uniform(-1,1, D*N).reshape(N,D) # Esto para generar puntos en el cubo\n",
    "\n",
    "    fractioninside = Ninside/N #Fracción de puntos dentro de la esfera\n",
    "    cube = 2**D # Volumen del cubo (de -1 to 1)\n",
    "    volumen_sphere_10d = fractioninside * cube # Volumen de la esfera\n",
    "    \n",
    "\n",
    "    print(f\"Volumen esfera en 10D = {volumen_sphere_10d}\")\n"
   ]
  }
 ],
 "metadata": {
  "kernelspec": {
   "display_name": "Python 3",
   "language": "python",
   "name": "python3"
  },
  "language_info": {
   "codemirror_mode": {
    "name": "ipython",
    "version": 3
   },
   "file_extension": ".py",
   "mimetype": "text/x-python",
   "name": "python",
   "nbconvert_exporter": "python",
   "pygments_lexer": "ipython3",
   "version": "3.8.5"
  }
 },
 "nbformat": 4,
 "nbformat_minor": 4
}
