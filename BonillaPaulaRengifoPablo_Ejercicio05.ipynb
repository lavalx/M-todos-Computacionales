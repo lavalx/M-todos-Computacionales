{
 "cells": [
  {
   "cell_type": "markdown",
   "metadata": {},
   "source": [
    "# Laboratorio 5 - Métodos computacionales\n",
    "Paula Valentina Bonilla Hernández\n",
    "Pablo Felipe Rengifo Montilla "
   ]
  },
  {
   "cell_type": "code",
   "execution_count": 82,
   "metadata": {},
   "outputs": [],
   "source": [
    "import numpy as np\n",
    "from types import SimpleNamespace"
   ]
  },
  {
   "cell_type": "code",
   "execution_count": 83,
   "metadata": {},
   "outputs": [],
   "source": [
    "def funcion(a,b,c,d,e,f,g,h,i,j):\n",
    "    return a**2+b**2+c**2+d**2+e**2+f**2+g**2+h**2+i**2+j**2-1**2"
   ]
  },
  {
   "cell_type": "code",
   "execution_count": 84,
   "metadata": {},
   "outputs": [],
   "source": [
    "def esfera10D(f,rang,n):\n",
    "    \n",
    "    #Usando la fórmula Multidimensional Monte Carlo (6.51)\n",
    "    \n",
    "    data = SimpleNamespace(**rang)\n",
    "    da = np.random.rand(n)*(data.b1 - data.a1)\n",
    "    db = np.random.rand(n)*(data.b2 - data.a2)\n",
    "    dc = np.random.rand(n)*(data.b3 - data.a3)\n",
    "    dd = np.random.rand(n)*(data.b4 - data.a4)\n",
    "    de = np.random.rand(n)*(data.b5 - data.a5)\n",
    "    df = np.random.rand(n)*(data.b6 - data.a6)\n",
    "    dg = np.random.rand(n)*(data.b7 - data.a7)\n",
    "    dh = np.random.rand(n)*(data.b8 - data.a8)\n",
    "    di = np.random.rand(n)*(data.b9 - data.a9)\n",
    "    dj = np.random.rand(n)*(data.b10 - data.a10)\n",
    "    \n",
    "    return (1/n*(data.b1 - data.a1)*(data.b2 - data.a2)*(data.b3 - data.a3)*(data.b4 - data.a4)*(data.b5 - data.a5)*(data.b6 - data.a6)*\n",
    "            (data.b7 - data.a7)*(data.b8 - data.a8)*(data.b9 - data.a9)*(data.b10 - data.a10))*sum(fun(da,db,dc,dd,de,df,dg,dh,di,dj))\n",
    "  \n",
    "rang = {\"a1\":-1, 'b1':1, 'a2':-1, 'b2':1,\"a3\":-1,\"b3\":1,\"a4\":-1,\"b4\":1,\"a5\":-1,\"b5\":1,\"a6\":-1, 'b6':1, 'a7':-1, 'b7':1,\n",
    "      \"a8\":-1,\"b8\":1,\"a9\":-1,\"b9\":1,\"a10\":-1,\"b10\":1}"
   ]
  },
  {
   "cell_type": "code",
   "execution_count": 85,
   "metadata": {},
   "outputs": [
    {
     "name": "stdout",
     "output_type": "stream",
     "text": [
      "Volumen esfera en 10D = 12630.257357417837\n"
     ]
    }
   ],
   "source": [
    "volumen_sphere_10d = esfera10D(funcion,rang,1000000)\n",
    "print(f\"Volumen esfera en 10D = {volumen_sphere_10d}\")"
   ]
  },
  {
   "cell_type": "code",
   "execution_count": null,
   "metadata": {},
   "outputs": [],
   "source": []
  },
  {
   "cell_type": "code",
   "execution_count": null,
   "metadata": {},
   "outputs": [],
   "source": []
  }
 ],
 "metadata": {
  "kernelspec": {
   "display_name": "Python 3",
   "language": "python",
   "name": "python3"
  },
  "language_info": {
   "codemirror_mode": {
    "name": "ipython",
    "version": 3
   },
   "file_extension": ".py",
   "mimetype": "text/x-python",
   "name": "python",
   "nbconvert_exporter": "python",
   "pygments_lexer": "ipython3",
   "version": "3.8.5"
  }
 },
 "nbformat": 4,
 "nbformat_minor": 4
}
