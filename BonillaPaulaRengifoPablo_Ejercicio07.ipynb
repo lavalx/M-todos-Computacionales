{
 "cells": [
  {
   "cell_type": "markdown",
   "metadata": {},
   "source": [
    "# Ejercicio 7\n",
    "Paula Valentina Bonilla Hernández\n",
    "Pablo Felipe Rengifo Montilla "
   ]
  },
  {
   "cell_type": "code",
   "execution_count": 337,
   "metadata": {},
   "outputs": [],
   "source": [
    "import matplotlib.pyplot as plt\n",
    "import numpy as np\n",
    "import pandas as pd\n",
    "from numpy import *\n",
    "%matplotlib inline\n",
    "plt.style.use('classic')"
   ]
  },
  {
   "cell_type": "code",
   "execution_count": 338,
   "metadata": {},
   "outputs": [],
   "source": [
    "df = pd.read_csv(\"https://raw.githubusercontent.com/diegour1/LabMetodosComputacionales/main/DataFiles/world_pop.csv\")"
   ]
  },
  {
   "cell_type": "code",
   "execution_count": 339,
   "metadata": {},
   "outputs": [
    {
     "data": {
      "text/html": [
       "<div>\n",
       "<style scoped>\n",
       "    .dataframe tbody tr th:only-of-type {\n",
       "        vertical-align: middle;\n",
       "    }\n",
       "\n",
       "    .dataframe tbody tr th {\n",
       "        vertical-align: top;\n",
       "    }\n",
       "\n",
       "    .dataframe thead th {\n",
       "        text-align: right;\n",
       "    }\n",
       "</style>\n",
       "<table border=\"1\" class=\"dataframe\">\n",
       "  <thead>\n",
       "    <tr style=\"text-align: right;\">\n",
       "      <th></th>\n",
       "      <th>Entity</th>\n",
       "      <th>Year</th>\n",
       "      <th>World Population</th>\n",
       "    </tr>\n",
       "  </thead>\n",
       "  <tbody>\n",
       "    <tr>\n",
       "      <th>0</th>\n",
       "      <td>Biraben (1980)</td>\n",
       "      <td>1</td>\n",
       "      <td>252000000.0</td>\n",
       "    </tr>\n",
       "    <tr>\n",
       "      <th>1</th>\n",
       "      <td>Biraben (1980)</td>\n",
       "      <td>1000</td>\n",
       "      <td>253000000.0</td>\n",
       "    </tr>\n",
       "    <tr>\n",
       "      <th>2</th>\n",
       "      <td>Biraben (1980)</td>\n",
       "      <td>1500</td>\n",
       "      <td>461000000.0</td>\n",
       "    </tr>\n",
       "    <tr>\n",
       "      <th>3</th>\n",
       "      <td>Biraben (1980)</td>\n",
       "      <td>1700</td>\n",
       "      <td>679000000.0</td>\n",
       "    </tr>\n",
       "    <tr>\n",
       "      <th>4</th>\n",
       "      <td>Biraben (1980)</td>\n",
       "      <td>1750</td>\n",
       "      <td>770000000.0</td>\n",
       "    </tr>\n",
       "    <tr>\n",
       "      <th>...</th>\n",
       "      <td>...</td>\n",
       "      <td>...</td>\n",
       "      <td>...</td>\n",
       "    </tr>\n",
       "    <tr>\n",
       "      <th>466</th>\n",
       "      <td>UN Medium Variant Projection (2019 revision)</td>\n",
       "      <td>2096</td>\n",
       "      <td>10857694000.0</td>\n",
       "    </tr>\n",
       "    <tr>\n",
       "      <th>467</th>\n",
       "      <td>UN Medium Variant Projection (2019 revision)</td>\n",
       "      <td>2097</td>\n",
       "      <td>10863179000.0</td>\n",
       "    </tr>\n",
       "    <tr>\n",
       "      <th>468</th>\n",
       "      <td>UN Medium Variant Projection (2019 revision)</td>\n",
       "      <td>2098</td>\n",
       "      <td>10867894000.0</td>\n",
       "    </tr>\n",
       "    <tr>\n",
       "      <th>469</th>\n",
       "      <td>UN Medium Variant Projection (2019 revision)</td>\n",
       "      <td>2099</td>\n",
       "      <td>10871811000.0</td>\n",
       "    </tr>\n",
       "    <tr>\n",
       "      <th>470</th>\n",
       "      <td>UN Medium Variant Projection (2019 revision)</td>\n",
       "      <td>2100</td>\n",
       "      <td>10874902000.0</td>\n",
       "    </tr>\n",
       "  </tbody>\n",
       "</table>\n",
       "<p>471 rows × 3 columns</p>\n",
       "</div>"
      ],
      "text/plain": [
       "                                           Entity  Year  World Population\n",
       "0                                  Biraben (1980)     1       252000000.0\n",
       "1                                  Biraben (1980)  1000       253000000.0\n",
       "2                                  Biraben (1980)  1500       461000000.0\n",
       "3                                  Biraben (1980)  1700       679000000.0\n",
       "4                                  Biraben (1980)  1750       770000000.0\n",
       "..                                            ...   ...               ...\n",
       "466  UN Medium Variant Projection (2019 revision)  2096     10857694000.0\n",
       "467  UN Medium Variant Projection (2019 revision)  2097     10863179000.0\n",
       "468  UN Medium Variant Projection (2019 revision)  2098     10867894000.0\n",
       "469  UN Medium Variant Projection (2019 revision)  2099     10871811000.0\n",
       "470  UN Medium Variant Projection (2019 revision)  2100     10874902000.0\n",
       "\n",
       "[471 rows x 3 columns]"
      ]
     },
     "execution_count": 339,
     "metadata": {},
     "output_type": "execute_result"
    }
   ],
   "source": [
    "pd.set_option(\"display.precision\", 10)\n",
    "pd.set_option(\"display.max.columns\", 10)\n",
    "df.head(471)"
   ]
  },
  {
   "cell_type": "code",
   "execution_count": 340,
   "metadata": {},
   "outputs": [],
   "source": [
    "dat = []\n",
    "p = 0\n",
    "x = np.array(df['Year'])\n",
    "y = np.array(df['World Population'])     "
   ]
  },
  {
   "cell_type": "code",
   "execution_count": 341,
   "metadata": {},
   "outputs": [
    {
     "name": "stdout",
     "output_type": "stream",
     "text": [
      "[1000, 1500, 1700, 1750, 1800, 1850, 1900, 1700, 1000, 1500, 1600, 1700, 1750, 1800, 1850, 1000, 1500, 1750, 1900, 1000, 1500, 1750, 1900, 1900, 1000, 1500, 1600, 1700, 1750, 1800, 1850, 1900, 700, 800, 900, 1000, 1100, 1200, 1300, 1400, 1500, 1600, 1700, 1750, 1800, 1850, 1900, 1200, 1700, 1750, 1850, 1900, 1750, 1800, 1850, 1000, 1100, 1200, 1300, 1400, 1500, 1600, 1700, 1750, 1800, 1850, 1900, 1000, 1200, 1400, 1500, 1600, 1700, 1750, 1800, 1850, 1900, 1750, 1850, 1700, 1000, 1500, 1700, 1750, 1900, 700, 800, 900, 1000, 1100, 1200, 1300, 1400, 1500, 1600, 1700, 1750, 1800, 1850, 1900, 1750, 1800, 1900, 1000, 1700, 1850, 700, 800, 900, 1000, 1100, 1200, 1300, 1400, 1500, 1600, 1700, 1750, 1800, 1850, 1900, 1900, 1700, 1800, 1900, 1300, 1700, 1750, 1800, 1900, 1900] [253000000.0, 461000000.0, 679000000.0, 770000000.0, 954000000.0, 1241000000.0, 1633000000.0, 410000000.0, 280200000.0, 427800000.0, 498000000.0, 640800000.0, 731000000.0, 890000000.0, 1171000000.0, 275000000.0, 440000000.0, 735000000.0, 1650000000.0, 345000000.0, 540000000.0, 805000000.0, 1710000000.0, 1668000000.0, 280000000.0, 428000000.0, 498000000.0, 641000000.0, 731000000.0, 890000000.0, 1171000000.0, 1668000000.0, 225835011.9, 240487640.4, 268747447.9, 295040195.2, 352606918.8, 393081041.0, 392403532.4, 389774827.6, 461367657.7, 553956117.0, 603167544.1, 811562143.9, 989313102.7, 1262675510.0, 1654429527.0, 450000000.0, 500000000.0, 795000000.0, 1265000000.0, 1656000000.0, 728000000.0, 907000000.0, 1170000000.0, 256000000.0, 320000000.0, 360000000.0, 360000000.0, 350000000.0, 425000000.0, 545000000.0, 610000000.0, 720000000.0, 900000000.0, 1200000000.0, 1625000000.0, 253000000.0, 400000000.0, 375000000.0, 461000000.0, 578000000.0, 680000000.0, 771000000.0, 954000000.0, 1241000000.0, 1634000000.0, 728000000.0, 1171000000.0, 603000000.0, 268273000.0, 437818000.0, 603410000.0, 694000000.0, 1571000000.0, 210000000.0, 220000000.0, 240000000.0, 265000000.0, 320000000.0, 360000000.0, 360000000.0, 350000000.0, 425000000.0, 545000000.0, 610000000.0, 720000000.0, 900000000.0, 1200000000.0, 1625000000.0, 760000000.0, 1000000000.0, 1630000000.0, 265000000.0, 610000000.0, 1200000000.0, 225835011.0, 240487640.0, 268747447.0, 295040195.0, 352606918.0, 393081040.0, 392403532.0, 389774827.0, 461367657.0, 553956116.0, 603167544.0, 811562143.0, 989818305.0, 1262682074.0, 1650000000.0, 1622000000.0, 600000000.0, 900000000.0, 1600000000.0, 400000000.0, 600000000.0, 700000000.0, 900000000.0, 1600000000.0, 1580000000.0]\n"
     ]
    }
   ],
   "source": [
    "h = []\n",
    "g = []\n",
    "for i in range(len(x)):\n",
    "    if x[i]>=700 and x[i]<=1900:\n",
    "        h.append(x[i])\n",
    "        g.append(y[i])\n",
    "print (h,g)"
   ]
  },
  {
   "cell_type": "code",
   "execution_count": 342,
   "metadata": {},
   "outputs": [],
   "source": [
    "#arr = np.array([1, 2, 3, 4, 5, 6, 7, 8, 9])\n",
    "#indices = np.where(arr<=3)\n",
    "#arr = np.delete(arr, indices)"
   ]
  },
  {
   "cell_type": "code",
   "execution_count": 343,
   "metadata": {},
   "outputs": [],
   "source": [
    "h.sort()\n",
    "g.sort()"
   ]
  },
  {
   "cell_type": "code",
   "execution_count": 344,
   "metadata": {},
   "outputs": [
    {
     "data": {
      "image/png": "[encoded data removed]",
      "text/plain": [
       "<Figure size 640x480 with 1 Axes>"
      ]
     },
     "metadata": {},
     "output_type": "display_data"
    }
   ],
   "source": [
    "model = np.polyfit(h,g,10)\n",
    "x=np.linspace(1,100,100)\n",
    "plt.plot(h,g,'+')\n",
    "plt.plot(h,polyval(model,h))\n",
    "plt.title('Ajuste polinomial')\n",
    "plt.xlabel(r'$Población$')\n",
    "plt.ylabel(r'$Años$')\n",
    "plt.savefig(\"BonillaPaulaRengifoPablo\")\n",
    "plt.show()\n"
   ]
  },
  {
   "cell_type": "code",
   "execution_count": 345,
   "metadata": {},
   "outputs": [
    {
     "name": "stdout",
     "output_type": "stream",
     "text": [
      "coeffs 4to grado = [ 7.45717782e-03 -3.57743838e+01  6.26515009e+04 -4.70173647e+07\n",
      "  1.29593292e+10]\n"
     ]
    }
   ],
   "source": [
    "c = np.polyfit(h,g,4)\n",
    "print(f\"coeffs 4to grado = {c}\")"
   ]
  },
  {
   "cell_type": "code",
   "execution_count": null,
   "metadata": {},
   "outputs": [],
   "source": []
  },
  {
   "cell_type": "code",
   "execution_count": null,
   "metadata": {},
   "outputs": [],
   "source": []
  }
 ],
 "metadata": {
  "kernelspec": {
   "display_name": "Python 3",
   "language": "python",
   "name": "python3"
  },
  "language_info": {
   "codemirror_mode": {
    "name": "ipython",
    "version": 3
   },
   "file_extension": ".py",
   "mimetype": "text/x-python",
   "name": "python",
   "nbconvert_exporter": "python",
   "pygments_lexer": "ipython3",
   "version": "3.8.5"
  }
 },
 "nbformat": 4,
 "nbformat_minor": 4
}
